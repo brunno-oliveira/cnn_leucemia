{
 "metadata": {
  "language_info": {
   "codemirror_mode": {
    "name": "ipython",
    "version": 3
   },
   "file_extension": ".py",
   "mimetype": "text/x-python",
   "name": "python",
   "nbconvert_exporter": "python",
   "pygments_lexer": "ipython3",
   "version": "3.7.9-final"
  },
  "orig_nbformat": 2,
  "kernelspec": {
   "name": "python38264bitbe3bd244f32e4beba626b70f0f62f5c4",
   "display_name": "Python 3.8.2 64-bit",
   "language": "python"
  }
 },
 "nbformat": 4,
 "nbformat_minor": 2,
 "cells": [
  {
   "source": [
    "# CNN LEUCEMIA\n",
    "## Execução no Google Colab\n",
    "\n",
    "** Para uma melhor performance alterar o ambiente de execução para GPU **\n",
    "\n",
    "![Runtime gpu](docs/ambiente_execucao_01.jpg)\n",
    "\n",
    "![Runtime gpu2](docs/ambiente_execucao_02.jpg)"
   ],
   "cell_type": "markdown",
   "metadata": {}
  },
  {
   "source": [
    "### Baixar os o repositório nesse ambiente"
   ],
   "cell_type": "markdown",
   "metadata": {}
  },
  {
   "cell_type": "code",
   "execution_count": null,
   "metadata": {},
   "outputs": [],
   "source": [
    "! git clone https://github.com/brunnokick/cnn_leucemia.git"
   ]
  },
  {
   "source": [
    "### Instalar as bibliotecas necessárias para executar o código"
   ],
   "cell_type": "markdown",
   "metadata": {}
  },
  {
   "cell_type": "code",
   "execution_count": null,
   "metadata": {},
   "outputs": [],
   "source": [
    "! pip install -r cnn_leucemia/requirements.txt"
   ]
  },
  {
   "source": [
    "### Após finalizar a instalação é necessário reiniciar o ambiente\n",
    "\n",
    "![Runtime gpu](docs/reiniciar_ambiente.jpg)"
   ],
   "cell_type": "markdown",
   "metadata": {}
  },
  {
   "source": [
    "### O data.py é o módulo responsável por extrair o ZIP com as imagens, realizar o pré-processamento e separar as bases de treino, teste e validação"
   ],
   "cell_type": "markdown",
   "metadata": {}
  },
  {
   "cell_type": "code",
   "execution_count": null,
   "metadata": {},
   "outputs": [],
   "source": [
    "! python cnn_leucemia/src/data.py colab"
   ]
  },
  {
   "source": [
    "### O código abaixo seta algumas SEED para tentar garantir a reprodutibilidade. Depois é importado o objeto Model do módulo de mesmo nome. Após os imports são chamado as funções necessário para criar, treinar e predizer a base de testes do modelo"
   ],
   "cell_type": "markdown",
   "metadata": {}
  },
  {
   "cell_type": "code",
   "execution_count": null,
   "metadata": {},
   "outputs": [],
   "source": [
    "import tensorflow as tf\n",
    "import numpy as np\n",
    "import random\n",
    "\n",
    "SEED = 42\n",
    "np.random.seed(SEED)\n",
    "tf.random.set_seed(SEED)\n",
    "random.seed(SEED)\n",
    "\n",
    "from cnn_leucemia.src.model import Model\n",
    "\n",
    "model = Model('colab')\n",
    "model.set_images_path()\n",
    "model.set_data()\n",
    "model.set_model()\n",
    "model.train_and_predict(epochs=20)"
   ]
  },
  {
   "source": [
    "### Métricas referente a base de testes"
   ],
   "cell_type": "markdown",
   "metadata": {}
  },
  {
   "cell_type": "code",
   "execution_count": null,
   "metadata": {},
   "outputs": [],
   "source": [
    "model.plot_test_metrics()"
   ]
  },
  {
   "cell_type": "code",
   "execution_count": 1,
   "metadata": {},
   "outputs": [],
   "source": [
    "### Métricas referente ao treinamento"
   ]
  },
  {
   "cell_type": "code",
   "execution_count": null,
   "metadata": {},
   "outputs": [],
   "source": [
    "model.plot_train_metrics()"
   ]
  }
 ]
}